{
 "cells": [
  {
   "cell_type": "code",
   "execution_count": 50,
   "metadata": {},
   "outputs": [],
   "source": [
    "import pandas as pd\n",
    "import numpy as np\n",
    "import matplotlib.pyplot as plt\n",
    "import seaborn as sns"
   ]
  },
  {
   "cell_type": "code",
   "execution_count": 51,
   "metadata": {},
   "outputs": [
    {
     "name": "stdout",
     "output_type": "stream",
     "text": [
      "<class 'pandas.core.frame.DataFrame'>\n",
      "RangeIndex: 5953156 entries, 0 to 5953155\n",
      "Data columns (total 15 columns):\n",
      " #   Column                 Dtype  \n",
      "---  ------                 -----  \n",
      " 0   Unnamed: 0             int64  \n",
      " 1   ride_id                object \n",
      " 2   rideable_type          object \n",
      " 3   start_station_name     object \n",
      " 4   start_station_id       object \n",
      " 5   end_station_name       object \n",
      " 6   end_station_id         object \n",
      " 7   member_casual          object \n",
      " 8   duration               object \n",
      " 9   weekday                int64  \n",
      " 10  hour                   int64  \n",
      " 11  month                  int64  \n",
      " 12  year                   int64  \n",
      " 13  distance (Km)          float64\n",
      " 14  distance Rounded (Km)  float64\n",
      "dtypes: float64(2), int64(5), object(8)\n",
      "memory usage: 681.3+ MB\n"
     ]
    }
   ],
   "source": [
    "df = pd.read_csv('Sept_2021_Sept_2022.csv', index_col=False)\n",
    "df.info()"
   ]
  },
  {
   "cell_type": "code",
   "execution_count": 52,
   "metadata": {},
   "outputs": [
    {
     "data": {
      "text/html": [
       "<div>\n",
       "<style scoped>\n",
       "    .dataframe tbody tr th:only-of-type {\n",
       "        vertical-align: middle;\n",
       "    }\n",
       "\n",
       "    .dataframe tbody tr th {\n",
       "        vertical-align: top;\n",
       "    }\n",
       "\n",
       "    .dataframe thead th {\n",
       "        text-align: right;\n",
       "    }\n",
       "</style>\n",
       "<table border=\"1\" class=\"dataframe\">\n",
       "  <thead>\n",
       "    <tr style=\"text-align: right;\">\n",
       "      <th></th>\n",
       "      <th>Unnamed: 0</th>\n",
       "      <th>weekday</th>\n",
       "      <th>hour</th>\n",
       "      <th>month</th>\n",
       "      <th>year</th>\n",
       "      <th>distance (Km)</th>\n",
       "      <th>distance Rounded (Km)</th>\n",
       "    </tr>\n",
       "  </thead>\n",
       "  <tbody>\n",
       "    <tr>\n",
       "      <th>count</th>\n",
       "      <td>5.953156e+06</td>\n",
       "      <td>5.953156e+06</td>\n",
       "      <td>5.953156e+06</td>\n",
       "      <td>5.953156e+06</td>\n",
       "      <td>5.953156e+06</td>\n",
       "      <td>5.947201e+06</td>\n",
       "      <td>5.947201e+06</td>\n",
       "    </tr>\n",
       "    <tr>\n",
       "      <th>mean</th>\n",
       "      <td>2.976578e+06</td>\n",
       "      <td>3.061329e+00</td>\n",
       "      <td>1.425455e+01</td>\n",
       "      <td>7.149335e+00</td>\n",
       "      <td>2.021771e+03</td>\n",
       "      <td>2.157367e+00</td>\n",
       "      <td>2.156825e+00</td>\n",
       "    </tr>\n",
       "    <tr>\n",
       "      <th>std</th>\n",
       "      <td>1.718528e+06</td>\n",
       "      <td>1.970283e+00</td>\n",
       "      <td>5.035021e+00</td>\n",
       "      <td>2.467692e+00</td>\n",
       "      <td>4.202318e-01</td>\n",
       "      <td>2.015727e+00</td>\n",
       "      <td>2.016127e+00</td>\n",
       "    </tr>\n",
       "    <tr>\n",
       "      <th>min</th>\n",
       "      <td>0.000000e+00</td>\n",
       "      <td>0.000000e+00</td>\n",
       "      <td>0.000000e+00</td>\n",
       "      <td>1.000000e+00</td>\n",
       "      <td>2.021000e+03</td>\n",
       "      <td>0.000000e+00</td>\n",
       "      <td>0.000000e+00</td>\n",
       "    </tr>\n",
       "    <tr>\n",
       "      <th>25%</th>\n",
       "      <td>1.488289e+06</td>\n",
       "      <td>1.000000e+00</td>\n",
       "      <td>1.100000e+01</td>\n",
       "      <td>5.000000e+00</td>\n",
       "      <td>2.022000e+03</td>\n",
       "      <td>8.824964e-01</td>\n",
       "      <td>9.000000e-01</td>\n",
       "    </tr>\n",
       "    <tr>\n",
       "      <th>50%</th>\n",
       "      <td>2.976578e+06</td>\n",
       "      <td>3.000000e+00</td>\n",
       "      <td>1.500000e+01</td>\n",
       "      <td>7.000000e+00</td>\n",
       "      <td>2.022000e+03</td>\n",
       "      <td>1.599697e+00</td>\n",
       "      <td>1.600000e+00</td>\n",
       "    </tr>\n",
       "    <tr>\n",
       "      <th>75%</th>\n",
       "      <td>4.464866e+06</td>\n",
       "      <td>5.000000e+00</td>\n",
       "      <td>1.800000e+01</td>\n",
       "      <td>9.000000e+00</td>\n",
       "      <td>2.022000e+03</td>\n",
       "      <td>2.828004e+00</td>\n",
       "      <td>2.800000e+00</td>\n",
       "    </tr>\n",
       "    <tr>\n",
       "      <th>max</th>\n",
       "      <td>5.953155e+06</td>\n",
       "      <td>6.000000e+00</td>\n",
       "      <td>2.300000e+01</td>\n",
       "      <td>1.200000e+01</td>\n",
       "      <td>2.022000e+03</td>\n",
       "      <td>1.189895e+03</td>\n",
       "      <td>1.189900e+03</td>\n",
       "    </tr>\n",
       "  </tbody>\n",
       "</table>\n",
       "</div>"
      ],
      "text/plain": [
       "         Unnamed: 0       weekday          hour         month          year  \\\n",
       "count  5.953156e+06  5.953156e+06  5.953156e+06  5.953156e+06  5.953156e+06   \n",
       "mean   2.976578e+06  3.061329e+00  1.425455e+01  7.149335e+00  2.021771e+03   \n",
       "std    1.718528e+06  1.970283e+00  5.035021e+00  2.467692e+00  4.202318e-01   \n",
       "min    0.000000e+00  0.000000e+00  0.000000e+00  1.000000e+00  2.021000e+03   \n",
       "25%    1.488289e+06  1.000000e+00  1.100000e+01  5.000000e+00  2.022000e+03   \n",
       "50%    2.976578e+06  3.000000e+00  1.500000e+01  7.000000e+00  2.022000e+03   \n",
       "75%    4.464866e+06  5.000000e+00  1.800000e+01  9.000000e+00  2.022000e+03   \n",
       "max    5.953155e+06  6.000000e+00  2.300000e+01  1.200000e+01  2.022000e+03   \n",
       "\n",
       "       distance (Km)  distance Rounded (Km)  \n",
       "count   5.947201e+06           5.947201e+06  \n",
       "mean    2.157367e+00           2.156825e+00  \n",
       "std     2.015727e+00           2.016127e+00  \n",
       "min     0.000000e+00           0.000000e+00  \n",
       "25%     8.824964e-01           9.000000e-01  \n",
       "50%     1.599697e+00           1.600000e+00  \n",
       "75%     2.828004e+00           2.800000e+00  \n",
       "max     1.189895e+03           1.189900e+03  "
      ]
     },
     "execution_count": 52,
     "metadata": {},
     "output_type": "execute_result"
    }
   ],
   "source": [
    "df.describe()"
   ]
  },
  {
   "cell_type": "code",
   "execution_count": 53,
   "metadata": {},
   "outputs": [
    {
     "data": {
      "text/plain": [
       "member    3445222\n",
       "casual    2507934\n",
       "Name: member_casual, dtype: int64"
      ]
     },
     "execution_count": 53,
     "metadata": {},
     "output_type": "execute_result"
    }
   ],
   "source": [
    "#count value\n",
    "member_casual = df['member_casual'].value_counts()\n",
    "member_casual"
   ]
  },
  {
   "cell_type": "code",
   "execution_count": 54,
   "metadata": {},
   "outputs": [
    {
     "data": {
      "text/plain": [
       "5    953459\n",
       "3    889956\n",
       "2    850709\n",
       "4    847595\n",
       "1    816490\n",
       "6    813186\n",
       "0    781761\n",
       "Name: weekday, dtype: int64"
      ]
     },
     "execution_count": 54,
     "metadata": {},
     "output_type": "execute_result"
    }
   ],
   "source": [
    "# count date\n",
    "date_count = df['weekday'].value_counts()\n",
    "date_count"
   ]
  },
  {
   "cell_type": "code",
   "execution_count": 55,
   "metadata": {},
   "outputs": [],
   "source": [
    "weekdays = ['Mon', 'Tues', 'Wed', 'Thurs', 'Fri', 'Sat', 'Sun']\n",
    "member_ride_per_day = []\n",
    "casual_ride_per_day = []\n",
    "weekdays_number = []\n",
    "for i in range(7):\n",
    "    weekdays_number.append(i)\n",
    "    a = len(df[(df['member_casual']=='member') & (df['weekday']==i)])\n",
    "    member_ride_per_day.append(a)\n",
    "    b = len(df[(df['member_casual']=='casual') & (df['weekday']==i)])\n",
    "    casual_ride_per_day.append(b)\n",
    "user_on_day = np.vstack((weekdays_number, weekdays, member_ride_per_day, casual_ride_per_day))\n"
   ]
  },
  {
   "cell_type": "code",
   "execution_count": 76,
   "metadata": {},
   "outputs": [
    {
     "data": {
      "image/png": "[encoded data removed]",
      "text/plain": [
       "<Figure size 648x648 with 1 Axes>"
      ]
     },
     "metadata": {
      "needs_background": "light"
     },
     "output_type": "display_data"
    }
   ],
   "source": [
    "# plot the difference between casual and member ride on week day\n",
    "member_vs_casual_wd = pd.DataFrame({'Member':member_ride_per_day,\n",
    "                       'Casual':casual_ride_per_day,},\n",
    "                       index = weekdays)\n",
    "ax = member_vs_casual_wd.plot.bar(figsize = (9,9), rot=0)\n",
    "## Analysis: Casual ride spikes up during the weekend (saturday and sunday)"
   ]
  },
  {
   "cell_type": "code",
   "execution_count": 57,
   "metadata": {},
   "outputs": [
    {
     "data": {
      "text/html": [
       "<div>\n",
       "<style scoped>\n",
       "    .dataframe tbody tr th:only-of-type {\n",
       "        vertical-align: middle;\n",
       "    }\n",
       "\n",
       "    .dataframe tbody tr th {\n",
       "        vertical-align: top;\n",
       "    }\n",
       "\n",
       "    .dataframe thead th {\n",
       "        text-align: right;\n",
       "    }\n",
       "</style>\n",
       "<table border=\"1\" class=\"dataframe\">\n",
       "  <thead>\n",
       "    <tr style=\"text-align: right;\">\n",
       "      <th></th>\n",
       "      <th>Unnamed: 0</th>\n",
       "      <th>ride_id</th>\n",
       "      <th>rideable_type</th>\n",
       "      <th>start_station_name</th>\n",
       "      <th>start_station_id</th>\n",
       "      <th>end_station_name</th>\n",
       "      <th>end_station_id</th>\n",
       "      <th>member_casual</th>\n",
       "      <th>duration</th>\n",
       "      <th>weekday</th>\n",
       "      <th>hour</th>\n",
       "      <th>month</th>\n",
       "      <th>year</th>\n",
       "      <th>distance (Km)</th>\n",
       "      <th>distance Rounded (Km)</th>\n",
       "    </tr>\n",
       "  </thead>\n",
       "  <tbody>\n",
       "    <tr>\n",
       "      <th>0</th>\n",
       "      <td>0</td>\n",
       "      <td>9DC7B962304CBFD8</td>\n",
       "      <td>electric_bike</td>\n",
       "      <td>NaN</td>\n",
       "      <td>NaN</td>\n",
       "      <td>NaN</td>\n",
       "      <td>NaN</td>\n",
       "      <td>casual</td>\n",
       "      <td>0 days 00:02:44</td>\n",
       "      <td>1</td>\n",
       "      <td>16</td>\n",
       "      <td>9</td>\n",
       "      <td>2021</td>\n",
       "      <td>0.828026</td>\n",
       "      <td>0.8</td>\n",
       "    </tr>\n",
       "    <tr>\n",
       "      <th>1</th>\n",
       "      <td>1</td>\n",
       "      <td>F930E2C6872D6B32</td>\n",
       "      <td>electric_bike</td>\n",
       "      <td>NaN</td>\n",
       "      <td>NaN</td>\n",
       "      <td>NaN</td>\n",
       "      <td>NaN</td>\n",
       "      <td>casual</td>\n",
       "      <td>0 days 00:15:14</td>\n",
       "      <td>1</td>\n",
       "      <td>14</td>\n",
       "      <td>9</td>\n",
       "      <td>2021</td>\n",
       "      <td>5.094354</td>\n",
       "      <td>5.1</td>\n",
       "    </tr>\n",
       "    <tr>\n",
       "      <th>2</th>\n",
       "      <td>2</td>\n",
       "      <td>6EF72137900BB910</td>\n",
       "      <td>electric_bike</td>\n",
       "      <td>NaN</td>\n",
       "      <td>NaN</td>\n",
       "      <td>NaN</td>\n",
       "      <td>NaN</td>\n",
       "      <td>casual</td>\n",
       "      <td>0 days 00:03:41</td>\n",
       "      <td>1</td>\n",
       "      <td>0</td>\n",
       "      <td>9</td>\n",
       "      <td>2021</td>\n",
       "      <td>1.112298</td>\n",
       "      <td>1.1</td>\n",
       "    </tr>\n",
       "    <tr>\n",
       "      <th>3</th>\n",
       "      <td>3</td>\n",
       "      <td>78D1DE133B3DBF55</td>\n",
       "      <td>electric_bike</td>\n",
       "      <td>NaN</td>\n",
       "      <td>NaN</td>\n",
       "      <td>NaN</td>\n",
       "      <td>NaN</td>\n",
       "      <td>casual</td>\n",
       "      <td>0 days 00:08:49</td>\n",
       "      <td>1</td>\n",
       "      <td>14</td>\n",
       "      <td>9</td>\n",
       "      <td>2021</td>\n",
       "      <td>1.112298</td>\n",
       "      <td>1.1</td>\n",
       "    </tr>\n",
       "    <tr>\n",
       "      <th>4</th>\n",
       "      <td>4</td>\n",
       "      <td>E03D4ACDCAEF6E00</td>\n",
       "      <td>electric_bike</td>\n",
       "      <td>NaN</td>\n",
       "      <td>NaN</td>\n",
       "      <td>NaN</td>\n",
       "      <td>NaN</td>\n",
       "      <td>casual</td>\n",
       "      <td>0 days 00:10:32</td>\n",
       "      <td>1</td>\n",
       "      <td>9</td>\n",
       "      <td>9</td>\n",
       "      <td>2021</td>\n",
       "      <td>2.484467</td>\n",
       "      <td>2.5</td>\n",
       "    </tr>\n",
       "  </tbody>\n",
       "</table>\n",
       "</div>"
      ],
      "text/plain": [
       "   Unnamed: 0           ride_id  rideable_type start_station_name  \\\n",
       "0           0  9DC7B962304CBFD8  electric_bike                NaN   \n",
       "1           1  F930E2C6872D6B32  electric_bike                NaN   \n",
       "2           2  6EF72137900BB910  electric_bike                NaN   \n",
       "3           3  78D1DE133B3DBF55  electric_bike                NaN   \n",
       "4           4  E03D4ACDCAEF6E00  electric_bike                NaN   \n",
       "\n",
       "  start_station_id end_station_name end_station_id member_casual  \\\n",
       "0              NaN              NaN            NaN        casual   \n",
       "1              NaN              NaN            NaN        casual   \n",
       "2              NaN              NaN            NaN        casual   \n",
       "3              NaN              NaN            NaN        casual   \n",
       "4              NaN              NaN            NaN        casual   \n",
       "\n",
       "          duration  weekday  hour  month  year  distance (Km)  \\\n",
       "0  0 days 00:02:44        1    16      9  2021       0.828026   \n",
       "1  0 days 00:15:14        1    14      9  2021       5.094354   \n",
       "2  0 days 00:03:41        1     0      9  2021       1.112298   \n",
       "3  0 days 00:08:49        1    14      9  2021       1.112298   \n",
       "4  0 days 00:10:32        1     9      9  2021       2.484467   \n",
       "\n",
       "   distance Rounded (Km)  \n",
       "0                    0.8  \n",
       "1                    5.1  \n",
       "2                    1.1  \n",
       "3                    1.1  \n",
       "4                    2.5  "
      ]
     },
     "execution_count": 57,
     "metadata": {},
     "output_type": "execute_result"
    }
   ],
   "source": [
    "df.head()"
   ]
  },
  {
   "cell_type": "code",
   "execution_count": 58,
   "metadata": {},
   "outputs": [
    {
     "data": {
      "image/png": "[encoded data removed]",
      "text/plain": [
       "<Figure size 432x288 with 1 Axes>"
      ]
     },
     "metadata": {
      "needs_background": "light"
     },
     "output_type": "display_data"
    }
   ],
   "source": [
    "# renting hour difference bewteen member and casual\n",
    "hour_of_day = []\n",
    "casual_renting_hour = []\n",
    "member_renting_hour = []\n",
    "for i in range(24):\n",
    "    hour_of_day.append(i)\n",
    "    c = len(df[(df['member_casual']=='casual') & (df['hour']==i)])\n",
    "    m = len(df[(df['member_casual']=='member') & (df['hour']==i)])\n",
    "    casual_renting_hour.append(c)\n",
    "    member_renting_hour.append(m)\n",
    "\n",
    "member_vs_casual_renting_hour = pd.DataFrame({'Member':member_renting_hour,\n",
    "                       'Casual':casual_renting_hour,},\n",
    "                       index = hour_of_day)\n"
   ]
  },
  {
   "cell_type": "code",
   "execution_count": 78,
   "metadata": {},
   "outputs": [
    {
     "data": {
      "image/png": "[encoded data removed]",
      "text/plain": [
       "<Figure size 1728x648 with 1 Axes>"
      ]
     },
     "metadata": {
      "needs_background": "light"
     },
     "output_type": "display_data"
    }
   ],
   "source": [
    "ax = member_vs_casual_renting_hour.plot.bar(figsize=(24, 9), rot=0)\n",
    "# Analysis:\n",
    "# Member ride spikes up from 6AM and reduces at 6PM\n",
    "# Casual ride rises slower till 5-6PM and then reduces"
   ]
  },
  {
   "cell_type": "code",
   "execution_count": 79,
   "metadata": {},
   "outputs": [
    {
     "data": {
      "image/png": "[encoded data removed]",
      "text/plain": [
       "<Figure size 864x648 with 1 Axes>"
      ]
     },
     "metadata": {
      "needs_background": "light"
     },
     "output_type": "display_data"
    }
   ],
   "source": [
    "# Distance travel difference between member and casual\n",
    "distances = np.linspace(0, 5, 25)\n",
    "distances = np.around(distances, 1)\n",
    "casual_dist_ride = []\n",
    "member_dist_ride = []\n",
    "for i in distances:\n",
    "    c = len(df[(df['member_casual']=='casual') & (df['distance Rounded (Km)']==i)])\n",
    "    m = len(df[(df['member_casual']=='member') & (df['distance Rounded (Km)']==i)])\n",
    "    casual_dist_ride.append(c)\n",
    "    member_dist_ride.append(m)\n",
    "\n",
    "member_vs_casual_dist_ride = pd.DataFrame({'Member':member_dist_ride,\n",
    "                       'Casual':casual_dist_ride,},\n",
    "                       index = distances)\n",
    "\n"
   ]
  },
  {
   "cell_type": "code",
   "execution_count": 80,
   "metadata": {},
   "outputs": [
    {
     "data": {
      "image/png": "[encoded data removed]",
      "text/plain": [
       "<Figure size 864x648 with 1 Axes>"
      ]
     },
     "metadata": {
      "needs_background": "light"
     },
     "output_type": "display_data"
    }
   ],
   "source": [
    "ax = member_vs_casual_dist_ride.plot.bar(figsize=(12,9),rot=90)\n",
    "# Analysis:\n",
    "# A lot of riders take a trip less than 200m\n",
    "# More member rides than casual rides at a distance of less than 2Km.\n",
    "# Over 2Km both types share the same number of rides."
   ]
  },
  {
   "cell_type": "code",
   "execution_count": 74,
   "metadata": {},
   "outputs": [],
   "source": [
    "# Note: don't use aggregate function, it's super slow.\n",
    "df['month'] = df['month'].astype(str)\n",
    "df['year'] = df['year'].astype(str)\n",
    "df['month-year'] = df['month'] + \"-\" + df['year']"
   ]
  },
  {
   "cell_type": "code",
   "execution_count": 75,
   "metadata": {},
   "outputs": [
    {
     "data": {
      "image/png": "[encoded data removed]",
      "text/plain": [
       "<Figure size 432x288 with 1 Axes>"
      ]
     },
     "metadata": {
      "needs_background": "light"
     },
     "output_type": "display_data"
    }
   ],
   "source": [
    "monthyear = ['9-2021', '10-2021', '11-2021', '12-2021', \n",
    "          '1-2022', '2-2022', '3-2022', '4-2022', \n",
    "          '5-2022', '6-2022', '7-2022', '8-2022',\n",
    "          '9-2022']\n",
    "casual_month_ride = []\n",
    "member_month_ride = []\n",
    "for i in monthyear:\n",
    "    c = len(df[(df['member_casual']=='casual') & (df['month-year']==i)])\n",
    "    m = len(df[(df['member_casual']=='member') & (df['month-year']==i)])\n",
    "    casual_month_ride.append(c)\n",
    "    member_month_ride.append(m)\n",
    "\n",
    "member_vs_casual_month_ride = pd.DataFrame({'Member':member_month_ride,\n",
    "                       'Casual':casual_month_ride,},\n",
    "                       index = monthyear)\n"
   ]
  },
  {
   "cell_type": "code",
   "execution_count": null,
   "metadata": {},
   "outputs": [],
   "source": [
    "ax = member_vs_casual_month_ride.plot.bar(figsize=(12,9),rot=90)\n",
    "# Analysis\n",
    "# Monthly ride shows that demands for rental rises form May and decline from August <-- The winter is coming\n",
    "# Casual riders peaked up from May while remain moderate from November to December to April"
   ]
  },
  {
   "cell_type": "code",
   "execution_count": 73,
   "metadata": {},
   "outputs": [
    {
     "data": {
      "text/plain": [
       "0          9-2021\n",
       "1          9-2021\n",
       "2          9-2021\n",
       "3          9-2021\n",
       "4          9-2021\n",
       "            ...  \n",
       "5953151    9-2022\n",
       "5953152    9-2022\n",
       "5953153    9-2022\n",
       "5953154    9-2022\n",
       "5953155    9-2022\n",
       "Name: month-year, Length: 5953156, dtype: object"
      ]
     },
     "execution_count": 73,
     "metadata": {},
     "output_type": "execute_result"
    }
   ],
   "source": [
    "df['month-year']"
   ]
  }
 ],
 "metadata": {
  "kernelspec": {
   "display_name": "Python 3.10.1 64-bit",
   "language": "python",
   "name": "python3"
  },
  "language_info": {
   "codemirror_mode": {
    "name": "ipython",
    "version": 3
   },
   "file_extension": ".py",
   "mimetype": "text/x-python",
   "name": "python",
   "nbconvert_exporter": "python",
   "pygments_lexer": "ipython3",
   "version": "3.10.1"
  },
  "orig_nbformat": 4,
  "vscode": {
   "interpreter": {
    "hash": "369f2c481f4da34e4445cda3fffd2e751bd1c4d706f27375911949ba6bb62e1c"
   }
  }
 },
 "nbformat": 4,
 "nbformat_minor": 2
}
